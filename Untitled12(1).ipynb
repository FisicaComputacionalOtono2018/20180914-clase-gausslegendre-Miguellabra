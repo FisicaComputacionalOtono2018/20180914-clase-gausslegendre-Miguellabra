{
  "nbformat": 4,
  "nbformat_minor": 0,
  "metadata": {
    "colab": {
      "name": "Untitled12.ipynb",
      "version": "0.3.2",
      "provenance": []
    },
    "kernelspec": {
      "name": "python3",
      "display_name": "Python 3"
    }
  },
  "cells": [
    {
      "metadata": {
        "id": "l8fH1YsTgeOt",
        "colab_type": "code",
        "colab": {}
      },
      "cell_type": "code",
      "source": [
        "#Miguel Labra Lorenzana\n",
        "#201766699\n",
        "\n",
        "\n",
        "import numpy as np\n",
        "\n",
        "def funcion(x):\n",
        "    return x**3+2*x**2\n",
        "\n",
        "def integral(n,liminf,limsup):\n",
        "    xi, pesos = np.polynomial.legendre.leggauss(n)\n",
        "    integralnumerica = 0\n",
        "    for i in range(0,n):\n",
        "        integralnumerica = integralnumerica + pesos[i]*funcion((limsup-liminf)/2*xi[i]+(limsup+liminf)/2)\n",
        "    return 2.0*integralnumerica\n",
        "  \n",
        "grado = 2\n",
        "print(integral(grado,1.0,5.0))"
      ],
      "execution_count": 0,
      "outputs": []
    },
    {
      "metadata": {
        "id": "Kgfp0j-zi26V",
        "colab_type": "code",
        "colab": {}
      },
      "cell_type": "code",
      "source": [
        ""
      ],
      "execution_count": 0,
      "outputs": []
    }
  ]
}